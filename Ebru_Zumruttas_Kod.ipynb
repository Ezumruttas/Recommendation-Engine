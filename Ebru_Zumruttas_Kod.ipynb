{
  "nbformat": 4,
  "nbformat_minor": 0,
  "metadata": {
    "colab": {
      "name": "Ebru_Zumruttas_TrendyolRecommendation",
      "provenance": [],
      "collapsed_sections": []
    },
    "kernelspec": {
      "name": "python3",
      "display_name": "Python 3"
    }
  },
  "cells": [
    {
      "cell_type": "markdown",
      "metadata": {
        "id": "mfI07km9rW6m"
      },
      "source": [
        "# Introduction: Recommender Engine For E-Commerce`"
      ]
    },
    {
      "cell_type": "markdown",
      "metadata": {
        "id": "TUpeEjDL5zTk"
      },
      "source": [
        "A recommendation engine is a system that suggests products, services, information to users based on analysis of data. Notwithstanding, the recommendation can derive from a variety of factors such as the history of the user and the behaviour of similar users.\n",
        "\n",
        "The main purpose of this project is to create a recommendation engine which is led the customer see more goods as the way we preffered.The data comes from an e-commerce company. \n",
        "\n",
        "Multiple methods are used in this project as the need of the concept. Each step will be examine and the results will be shared. Before going further let's examine the data which is used in this project.\n",
        "\n",
        "**Collaborative Filtering** essentially means that similar users like similar things.\n",
        "\n",
        "**Content-based Fitering** essentially considers items/users features. "
      ]
    },
    {
      "cell_type": "markdown",
      "metadata": {
        "id": "z2s1sW3uwYAN"
      },
      "source": [
        "Importing the required libraries:"
      ]
    },
    {
      "cell_type": "code",
      "metadata": {
        "id": "iKGEvfLXVj5l"
      },
      "source": [
        "import pandas as pd\n",
        "import sqlite3\n",
        "import matplotlib.pyplot as plt\n",
        "import seaborn as sns\n",
        "import numpy as np\n",
        "import math\n",
        "import re\n",
        "from scipy.sparse import csr_matrix\n",
        "conn=sqlite3.connect(\":memory:\")"
      ],
      "execution_count": 1,
      "outputs": []
    },
    {
      "cell_type": "markdown",
      "metadata": {
        "id": "qlOvrhw7wqTE"
      },
      "source": [
        "# Exploratory Data Analysis"
      ]
    },
    {
      "cell_type": "code",
      "metadata": {
        "id": "6e_-ne9NWcYf"
      },
      "source": [
        "df=pd.read_csv('https://storage.googleapis.com/ty2020/reco.csv.gz');"
      ],
      "execution_count": 2,
      "outputs": []
    },
    {
      "cell_type": "markdown",
      "metadata": {
        "id": "_9XJ-vr23v9e"
      },
      "source": [
        "Product and Image Link columns from main dataset is cataloged."
      ]
    },
    {
      "cell_type": "code",
      "metadata": {
        "id": "-HusFzW83hsa"
      },
      "source": [
        "pr=df[['productcontentid','ImageLink']].drop_duplicates('productcontentid')"
      ],
      "execution_count": 3,
      "outputs": []
    },
    {
      "cell_type": "code",
      "metadata": {
        "id": "tkyctPBwWlvB",
        "outputId": "5066386b-7370-4553-df18-567eda643c0e",
        "colab": {
          "base_uri": "https://localhost:8080/",
          "height": 72
        }
      },
      "source": [
        "pd.set_option('display.max_colwidth', -1)\n"
      ],
      "execution_count": 4,
      "outputs": [
        {
          "output_type": "stream",
          "text": [
            "/usr/local/lib/python3.6/dist-packages/ipykernel_launcher.py:1: FutureWarning: Passing a negative integer is deprecated in version 1.0 and will not be supported in future version. Instead, use None to not limit the column width.\n",
            "  \"\"\"Entry point for launching an IPython kernel.\n"
          ],
          "name": "stderr"
        }
      ]
    },
    {
      "cell_type": "code",
      "metadata": {
        "id": "zrexixxlxeyD",
        "outputId": "ccd96627-5ef5-4060-92a4-212247eec78c",
        "colab": {
          "base_uri": "https://localhost:8080/",
          "height": 315
        }
      },
      "source": [
        "df.head(5)"
      ],
      "execution_count": 5,
      "outputs": [
        {
          "output_type": "execute_result",
          "data": {
            "text/html": [
              "<div>\n",
              "<style scoped>\n",
              "    .dataframe tbody tr th:only-of-type {\n",
              "        vertical-align: middle;\n",
              "    }\n",
              "\n",
              "    .dataframe tbody tr th {\n",
              "        vertical-align: top;\n",
              "    }\n",
              "\n",
              "    .dataframe thead th {\n",
              "        text-align: right;\n",
              "    }\n",
              "</style>\n",
              "<table border=\"1\" class=\"dataframe\">\n",
              "  <thead>\n",
              "    <tr style=\"text-align: right;\">\n",
              "      <th></th>\n",
              "      <th>partition_date</th>\n",
              "      <th>orderparentid</th>\n",
              "      <th>user_id</th>\n",
              "      <th>productcontentid</th>\n",
              "      <th>brand_id</th>\n",
              "      <th>category_id</th>\n",
              "      <th>category_name</th>\n",
              "      <th>gender</th>\n",
              "      <th>price</th>\n",
              "      <th>color_id</th>\n",
              "      <th>business_unit</th>\n",
              "      <th>ImageLink</th>\n",
              "    </tr>\n",
              "  </thead>\n",
              "  <tbody>\n",
              "    <tr>\n",
              "      <th>0</th>\n",
              "      <td>20.08.2020 06:00</td>\n",
              "      <td>335057357</td>\n",
              "      <td>86386</td>\n",
              "      <td>39328996</td>\n",
              "      <td>919155</td>\n",
              "      <td>418</td>\n",
              "      <td>Sandalet</td>\n",
              "      <td>Kadın</td>\n",
              "      <td>319.98</td>\n",
              "      <td>14.0</td>\n",
              "      <td>Branded Shoes B</td>\n",
              "      <td>https://cdn.dsmcdn.com//ty1/product/media/images/20200427/20/316534/69600209/4/4_org_zoom.jpg</td>\n",
              "    </tr>\n",
              "    <tr>\n",
              "      <th>1</th>\n",
              "      <td>24.08.2020 10:00</td>\n",
              "      <td>337401625</td>\n",
              "      <td>59469</td>\n",
              "      <td>31903343</td>\n",
              "      <td>121</td>\n",
              "      <td>1827</td>\n",
              "      <td>Banyo Dolabı</td>\n",
              "      <td>Unisex</td>\n",
              "      <td>1195.56</td>\n",
              "      <td>3.0</td>\n",
              "      <td>Bahçe &amp; Yapı Market &amp; Hırdavat</td>\n",
              "      <td>https://cdn.dsmcdn.com//assets/product/media/images/20191010/9/355954/57359653/1/1_org_zoom.jpg</td>\n",
              "    </tr>\n",
              "    <tr>\n",
              "      <th>2</th>\n",
              "      <td>26.08.2020 19:00</td>\n",
              "      <td>338457012</td>\n",
              "      <td>51248</td>\n",
              "      <td>34726400</td>\n",
              "      <td>40</td>\n",
              "      <td>604</td>\n",
              "      <td>T-Shirt</td>\n",
              "      <td>Kadın</td>\n",
              "      <td>37.99</td>\n",
              "      <td>14.0</td>\n",
              "      <td>PL Woman</td>\n",
              "      <td>https://cdn.dsmcdn.com//assets/product/media/images/20200318/15/4526254/62064217/1/1_org_zoom.jpg</td>\n",
              "    </tr>\n",
              "    <tr>\n",
              "      <th>3</th>\n",
              "      <td>22.08.2020 11:00</td>\n",
              "      <td>336681542</td>\n",
              "      <td>29380</td>\n",
              "      <td>32920640</td>\n",
              "      <td>7651</td>\n",
              "      <td>604</td>\n",
              "      <td>T-Shirt</td>\n",
              "      <td>Kadın</td>\n",
              "      <td>24.99</td>\n",
              "      <td>6.0</td>\n",
              "      <td>Kadın A</td>\n",
              "      <td>https://cdn.dsmcdn.com//assets/product/media/images/20191127/17/824912/59665366/1/1_org_zoom.jpg</td>\n",
              "    </tr>\n",
              "    <tr>\n",
              "      <th>4</th>\n",
              "      <td>20.08.2020 19:00</td>\n",
              "      <td>335736916</td>\n",
              "      <td>68368</td>\n",
              "      <td>39035716</td>\n",
              "      <td>3395</td>\n",
              "      <td>599</td>\n",
              "      <td>Kazak</td>\n",
              "      <td>Kadın</td>\n",
              "      <td>79.90</td>\n",
              "      <td>16.0</td>\n",
              "      <td>Kadın A</td>\n",
              "      <td>https://cdn.dsmcdn.com//ty1/product/media/images/20200421/13/30718/69068887/1/1_org_zoom.jpg</td>\n",
              "    </tr>\n",
              "  </tbody>\n",
              "</table>\n",
              "</div>"
            ],
            "text/plain": [
              "     partition_date  ...                                                                                          ImageLink\n",
              "0  20.08.2020 06:00  ...  https://cdn.dsmcdn.com//ty1/product/media/images/20200427/20/316534/69600209/4/4_org_zoom.jpg    \n",
              "1  24.08.2020 10:00  ...  https://cdn.dsmcdn.com//assets/product/media/images/20191010/9/355954/57359653/1/1_org_zoom.jpg  \n",
              "2  26.08.2020 19:00  ...  https://cdn.dsmcdn.com//assets/product/media/images/20200318/15/4526254/62064217/1/1_org_zoom.jpg\n",
              "3  22.08.2020 11:00  ...  https://cdn.dsmcdn.com//assets/product/media/images/20191127/17/824912/59665366/1/1_org_zoom.jpg \n",
              "4  20.08.2020 19:00  ...  https://cdn.dsmcdn.com//ty1/product/media/images/20200421/13/30718/69068887/1/1_org_zoom.jpg     \n",
              "\n",
              "[5 rows x 12 columns]"
            ]
          },
          "metadata": {
            "tags": []
          },
          "execution_count": 5
        }
      ]
    },
    {
      "cell_type": "code",
      "metadata": {
        "id": "xEC4mcnM3Huw",
        "outputId": "f976f9c3-cf96-414f-8a3e-e0832207cfbd",
        "colab": {
          "base_uri": "https://localhost:8080/",
          "height": 355
        }
      },
      "source": [
        "df.info()"
      ],
      "execution_count": 6,
      "outputs": [
        {
          "output_type": "stream",
          "text": [
            "<class 'pandas.core.frame.DataFrame'>\n",
            "RangeIndex: 508228 entries, 0 to 508227\n",
            "Data columns (total 12 columns):\n",
            " #   Column            Non-Null Count   Dtype  \n",
            "---  ------            --------------   -----  \n",
            " 0   partition_date    508228 non-null  object \n",
            " 1   orderparentid     508228 non-null  int64  \n",
            " 2   user_id           508228 non-null  int64  \n",
            " 3   productcontentid  508228 non-null  int64  \n",
            " 4   brand_id          508228 non-null  int64  \n",
            " 5   category_id       508228 non-null  int64  \n",
            " 6   category_name     508228 non-null  object \n",
            " 7   gender            475493 non-null  object \n",
            " 8   price             508228 non-null  float64\n",
            " 9   color_id          375670 non-null  float64\n",
            " 10  business_unit     508228 non-null  object \n",
            " 11  ImageLink         508228 non-null  object \n",
            "dtypes: float64(2), int64(5), object(5)\n",
            "memory usage: 46.5+ MB\n"
          ],
          "name": "stdout"
        }
      ]
    },
    {
      "cell_type": "markdown",
      "metadata": {
        "id": "j9twsjiX0rg9"
      },
      "source": [
        "*  **partition_date**: The date user bought the product.\n",
        "*  **orderparentid**: The order id that all the product user bought in one order. \n",
        "*  **user_id**: Id of the user.\n",
        "*  **productcontentid**: Id of the product.\n",
        "*  **brand_id**: Id of the brand that products have.\n",
        "*  **category_id** : Id of the category that product included.\n",
        "*  **category_name**: Name of the category that product included.\n",
        "*  **gender**: Gender assigned to the product.\n",
        "*  **price**: Price of product.\n",
        "*  **color_id**: Id of the color that products have.\n",
        "*  **business_unit**: Business unit that products have\n",
        "*  **ImageLink**: URL of the photograph of the product.\n",
        "\n",
        "\n",
        "\n",
        "\n",
        "\n",
        "\n",
        "\n",
        "\n",
        "\n",
        "\n",
        "\n",
        "\n",
        "\n",
        "\n",
        "\n",
        "\n",
        "\n",
        "\n"
      ]
    },
    {
      "cell_type": "markdown",
      "metadata": {
        "id": "HoODQqLfxQtU"
      },
      "source": [
        "As can be seen above only gender and color_id columns have null values."
      ]
    },
    {
      "cell_type": "markdown",
      "metadata": {
        "id": "2HLOSe0QRP0_"
      },
      "source": [
        "## Category Insight"
      ]
    },
    {
      "cell_type": "code",
      "metadata": {
        "id": "48TzMhkd1bHV"
      },
      "source": [
        "category=pd.DataFrame(df.groupby('category_name').size())\n",
        "category.rename(columns={0:'size'},inplace=True)\n",
        "category.sort_values(by='size',ascending=False,inplace=True)\n",
        "category.reset_index(inplace=True)\n"
      ],
      "execution_count": 7,
      "outputs": []
    },
    {
      "cell_type": "code",
      "metadata": {
        "id": "6tShtAiQ5y5X",
        "outputId": "714873e2-eb84-4239-a983-77337cbbdf5e",
        "colab": {
          "base_uri": "https://localhost:8080/",
          "height": 381
        }
      },
      "source": [
        "plt.figure(figsize=(20,10))\n",
        "ax=sns.barplot(x='category_name',y='size',data=category.head(100))\n",
        "plt.xticks(rotation=90)\n",
        "plt.tight_layout()"
      ],
      "execution_count": 8,
      "outputs": [
        {
          "output_type": "display_data",
          "data": {
            "image/png": "[encoded data removed]",
            "text/plain": [
              "<Figure size 1440x720 with 1 Axes>"
            ]
          },
          "metadata": {
            "tags": [],
            "needs_background": "light"
          }
        }
      ]
    },
    {
      "cell_type": "markdown",
      "metadata": {
        "id": "Ooj3E53X8Sd-"
      },
      "source": [
        "In statistics and business, a **long tail of distributions** of numbers is the portion of the distribution having many occurrences far from the \"head\" or central part of the distribution.\n",
        "There are only 100 category name displayed in this graph.Therefore the most of the sales comes from non-popular goods.This is an important part while creating a recommendation engine. **In user based recommendation engine category variety must be increased.**"
      ]
    },
    {
      "cell_type": "markdown",
      "metadata": {
        "id": "iumQCLDKRmTz"
      },
      "source": [
        "## Business Unit Insight"
      ]
    },
    {
      "cell_type": "code",
      "metadata": {
        "id": "HS5PQiwORtjc"
      },
      "source": [
        "bu=pd.DataFrame(df.groupby('business_unit').size())\n",
        "bu.rename(columns={0:'size'},inplace=True)\n",
        "bu.sort_values(by='size',ascending=False,inplace=True)\n",
        "bu.reset_index(inplace=True)\n"
      ],
      "execution_count": 9,
      "outputs": []
    },
    {
      "cell_type": "code",
      "metadata": {
        "id": "PHhc4DfISBiG",
        "outputId": "fd4ac8ca-88c9-4e21-9b64-8899a033d305",
        "colab": {
          "base_uri": "https://localhost:8080/",
          "height": 381
        }
      },
      "source": [
        "plt.figure(figsize=(20,10))\n",
        "ax=sns.barplot(x='business_unit',y='size',data=bu.head(100))\n",
        "plt.xticks(rotation=90)\n",
        "plt.tight_layout()"
      ],
      "execution_count": 10,
      "outputs": [
        {
          "output_type": "display_data",
          "data": {
            "image/png": "[encoded data removed]",
            "text/plain": [
              "<Figure size 1440x720 with 1 Axes>"
            ]
          },
          "metadata": {
            "tags": [],
            "needs_background": "light"
          }
        }
      ]
    },
    {
      "cell_type": "markdown",
      "metadata": {
        "id": "p4fDlQtaSRlI"
      },
      "source": [
        "Long Tail statistical pattern can be shown above.The hits are in the head. There are only 100 business_unit is shown in the graph. Therefore the variety of business unit must be increase in the recommendations that showed to the user."
      ]
    },
    {
      "cell_type": "markdown",
      "metadata": {
        "id": "s2rwqQokRW-Z"
      },
      "source": [
        "## Gender Insight"
      ]
    },
    {
      "cell_type": "markdown",
      "metadata": {
        "id": "wSdQeFY0IsT2"
      },
      "source": [
        "Null data of gender column must be examined incase of pointing a meaningful insight."
      ]
    },
    {
      "cell_type": "code",
      "metadata": {
        "id": "1yg4hrKIJYFU",
        "outputId": "eb728cc0-9534-420e-db91-da63ca3ed78c",
        "colab": {
          "base_uri": "https://localhost:8080/",
          "height": 941
        }
      },
      "source": [
        "df[df.gender=='Unisex'].groupby('business_unit').size().sort_values(ascending=False).head(50)\n"
      ],
      "execution_count": 11,
      "outputs": [
        {
          "output_type": "execute_result",
          "data": {
            "text/plain": [
              "business_unit\n",
              "Sofra & Mutfak                        22463\n",
              "Books                                 10808\n",
              "Kişisel Bakım                         10715\n",
              "Cilt Bakım                            8771 \n",
              "Ev Dekorasyon                         8371 \n",
              "Cep Telefonu & Aksesuarları           7794 \n",
              "Sağlık                                7159 \n",
              "Ev Tekstil                            7039 \n",
              "Oyuncak                               6834 \n",
              "Ev Gereçleri                          6807 \n",
              "Kırtasiye & Ofis                      6534 \n",
              "Bahçe & Yapı Market & Hırdavat        5866 \n",
              "Banyo                                 5783 \n",
              "Petshop                               5313 \n",
              "Gıda ve İçecek                        5134 \n",
              "Ev Bakım ve Temizlik                  4996 \n",
              "Bebek Bezi & Mendil                   4801 \n",
              "Hobi                                  4278 \n",
              "Sport Equipment                       3943 \n",
              "Salon &Mutfak Mobilya                 3692 \n",
              "Aydınlatma                            3412 \n",
              "Elektrikli Ev Aletleri                3384 \n",
              "Bilgisayar & Tablet & Aksesuarları    3234 \n",
              "Saç Bakım                             3216 \n",
              "Anne & Bebek Bakım                    3182 \n",
              "Oto Aksesuar                          2918 \n",
              "Çocuk Gereç                           2644 \n",
              "Kids & Baby Fashion                   2489 \n",
              "Ofis Mobilyası                        2213 \n",
              "Vücut Bakım                           1795 \n",
              "Branded Shoes B                       1784 \n",
              "Gözlük B                              1773 \n",
              "Diğer Aksesuarlar                     1752 \n",
              "Sportswear                            1739 \n",
              "Takı                                  1535 \n",
              "Outdoor Equipment                     1397 \n",
              "Yatak Oda Mobilyası                   1375 \n",
              "İç Giyim                              1364 \n",
              "Halı/Kilim                            1303 \n",
              "Kişisel Bakım Aletleri                1251 \n",
              "Kadın B                               1192 \n",
              "Saat B                                1185 \n",
              "Çanta & Valiz                         1175 \n",
              "Bahçe Mobilyası                       1111 \n",
              "Makyaj                                1079 \n",
              "Beyaz Eşya                            917  \n",
              "Parfüm                                575  \n",
              "Foto & Kamera                         558  \n",
              "Erkek B                               558  \n",
              "Mayo                                  444  \n",
              "dtype: int64"
            ]
          },
          "metadata": {
            "tags": []
          },
          "execution_count": 11
        }
      ]
    },
    {
      "cell_type": "markdown",
      "metadata": {
        "id": "4OqY1ZCEOzLP"
      },
      "source": [
        "In examination of bussiness_unit of two gender type Unknown and Unisex are mostly similar. Due to that fact we turn Unknown gender to Unisex."
      ]
    },
    {
      "cell_type": "code",
      "metadata": {
        "id": "1rYH3FXsHFpj"
      },
      "source": [
        "df.gender=df.gender.fillna('Unisex')\n",
        "gender=pd.DataFrame(df.groupby('gender').size())\n",
        "gender.rename(columns={0:'size'},inplace=True)\n",
        "gender.sort_values(by='size',ascending=False,inplace=True)\n",
        "gender.reset_index(inplace=True)"
      ],
      "execution_count": 12,
      "outputs": []
    },
    {
      "cell_type": "code",
      "metadata": {
        "id": "8em0JjflHYru",
        "outputId": "f735f561-3524-402e-c3d5-c1cc02f2460f",
        "colab": {
          "base_uri": "https://localhost:8080/",
          "height": 441
        }
      },
      "source": [
        "plt.figure(figsize=(8,6))\n",
        "ax=sns.barplot(x='gender',y='size',data=gender)\n",
        "plt.xticks(rotation=90)\n",
        "plt.tight_layout()"
      ],
      "execution_count": 13,
      "outputs": [
        {
          "output_type": "display_data",
          "data": {
            "image/png": "[encoded data removed]",
            "text/plain": [
              "<Figure size 576x432 with 1 Axes>"
            ]
          },
          "metadata": {
            "tags": [],
            "needs_background": "light"
          }
        }
      ]
    },
    {
      "cell_type": "markdown",
      "metadata": {
        "id": "jRSemlfdQFgk"
      },
      "source": [
        "As shown above unisex goods are more than other genders after filling the nan values. This graph shown the weights of gender through all the goods in e-commerce inventory that sold in that period."
      ]
    },
    {
      "cell_type": "markdown",
      "metadata": {
        "id": "97REI3_rRM0Y"
      },
      "source": [
        "## Price Insight"
      ]
    },
    {
      "cell_type": "code",
      "metadata": {
        "id": "cK8cnbB1YuMj",
        "outputId": "0468c765-38d4-46ba-b7a3-288a8c705618",
        "colab": {
          "base_uri": "https://localhost:8080/",
          "height": 177
        }
      },
      "source": [
        "df.price.describe()"
      ],
      "execution_count": 14,
      "outputs": [
        {
          "output_type": "execute_result",
          "data": {
            "text/plain": [
              "count    508228.000000\n",
              "mean     91.766065    \n",
              "std      260.402215   \n",
              "min      0.010000     \n",
              "25%      29.990000    \n",
              "50%      49.990000    \n",
              "75%      89.990000    \n",
              "max      24149.290000 \n",
              "Name: price, dtype: float64"
            ]
          },
          "metadata": {
            "tags": []
          },
          "execution_count": 14
        }
      ]
    },
    {
      "cell_type": "markdown",
      "metadata": {
        "id": "RrzE7UqPsmez"
      },
      "source": [
        "Most of the price tag is in range to 90 TL.But there are many variety of price tag is exist in the data."
      ]
    },
    {
      "cell_type": "code",
      "metadata": {
        "id": "PuptwALqTzt6",
        "outputId": "ec9be527-699b-4bfc-ed31-e09bee9a484b",
        "colab": {
          "base_uri": "https://localhost:8080/",
          "height": 266
        }
      },
      "source": [
        "boxplot = df.boxplot(column=['price'])"
      ],
      "execution_count": 15,
      "outputs": [
        {
          "output_type": "display_data",
          "data": {
            "image/png": "[encoded data removed]",
            "text/plain": [
              "<Figure size 432x288 with 1 Axes>"
            ]
          },
          "metadata": {
            "tags": [],
            "needs_background": "light"
          }
        }
      ]
    },
    {
      "cell_type": "markdown",
      "metadata": {
        "id": "wI0qUIk9b0RO"
      },
      "source": [
        "When outliers inspected the price information of outliers are displayed with their own value. "
      ]
    },
    {
      "cell_type": "code",
      "metadata": {
        "id": "e3qzwf1WtnK4",
        "outputId": "29ab3179-7c20-432f-bf42-18f6f4cb2a1d",
        "colab": {
          "base_uri": "https://localhost:8080/",
          "height": 35
        }
      },
      "source": [
        "df[df.price>1000].groupby('category_name').size().sum()"
      ],
      "execution_count": 16,
      "outputs": [
        {
          "output_type": "execute_result",
          "data": {
            "text/plain": [
              "3039"
            ]
          },
          "metadata": {
            "tags": []
          },
          "execution_count": 16
        }
      ]
    },
    {
      "cell_type": "markdown",
      "metadata": {
        "id": "XCt2do0E4Hfc"
      },
      "source": [
        "There are only 3039 products higher than the 1000 TL."
      ]
    },
    {
      "cell_type": "markdown",
      "metadata": {
        "id": "sfHxTHtx4WMh"
      },
      "source": [
        "# Content Based Recommendation Engine"
      ]
    },
    {
      "cell_type": "markdown",
      "metadata": {
        "id": "sp38YPyF531I"
      },
      "source": [
        "Content-based filtering is based on a single user’s interactions and preference. **Recommendations are based on the metadata collected from a user’s history and interactions**. For example, recommendations will be based on looking at established patterns in a user’s choice or behaviours. Returning information such as products or services will relate to your likes or views. With an approach like this, the more information that the user provides, the higher the accuracy."
      ]
    },
    {
      "cell_type": "markdown",
      "metadata": {
        "id": "o2arPKlB5LOo"
      },
      "source": [
        "## Cold Start / Baseline Model"
      ]
    },
    {
      "cell_type": "markdown",
      "metadata": {
        "id": "RKst0FGB5dA4"
      },
      "source": [
        "Given the privacy and regulatory issues are important in some industries’ services, personal metadata and individual transactional data can be missing at the outset. These issues are commonly known as ‘cold start’ problems for recommender systems using this approach. **Cold start occurs when a recommender system cannot draw inferences for a query due to lack of sufficient information.** A particular form of the content-based recommendation system is a case-based recommender. **These evaluate items’ similarities and have been extensively deployed in e-commerce.**"
      ]
    },
    {
      "cell_type": "markdown",
      "metadata": {
        "id": "xlnz06RG7NZb"
      },
      "source": [
        "## Determining Product Similarities \n",
        "\n"
      ]
    },
    {
      "cell_type": "markdown",
      "metadata": {
        "id": "6xuBv_n47YzN"
      },
      "source": [
        "### Determining Weight For Gender"
      ]
    },
    {
      "cell_type": "markdown",
      "metadata": {
        "id": "ox7G9-XJ8rAS"
      },
      "source": [
        "In this section weight for gender which is assigned to product will be calculated through all the sales has been made without considering user behaviour."
      ]
    },
    {
      "cell_type": "code",
      "metadata": {
        "id": "JsfpojelpqMa"
      },
      "source": [
        "df_gender=df[['gender','productcontentid']]"
      ],
      "execution_count": 17,
      "outputs": []
    },
    {
      "cell_type": "markdown",
      "metadata": {
        "id": "lI37yMzS9TFb"
      },
      "source": [
        "With SQL queries dataframe will be grouped and throughout every order the weight of the gender is calculated."
      ]
    },
    {
      "cell_type": "code",
      "metadata": {
        "id": "iqpmhFAMqG8m"
      },
      "source": [
        "df_gender.to_sql(\"df_gender\",conn,if_exists='replace')"
      ],
      "execution_count": 18,
      "outputs": []
    },
    {
      "cell_type": "code",
      "metadata": {
        "id": "WyHf-oyAqkOb"
      },
      "source": [
        "gend= pd.read_sql(\n",
        "    \"\"\"\n",
        "    select gender, count(1) n\n",
        "    from df_gender\n",
        "    group by gender\n",
        "    order by n desc\n",
        "    \"\"\",conn\n",
        ")"
      ],
      "execution_count": 19,
      "outputs": []
    },
    {
      "cell_type": "code",
      "metadata": {
        "id": "musjaBYVq5xk"
      },
      "source": [
        "gend['g_weight']= gend[['n']].transform(lambda x: x/x.sum())"
      ],
      "execution_count": 20,
      "outputs": []
    },
    {
      "cell_type": "markdown",
      "metadata": {
        "id": "OZrJvv3u-DCr"
      },
      "source": [
        "Basically all gender products size divided by all products size individually.The weights are included to main data frame."
      ]
    },
    {
      "cell_type": "code",
      "metadata": {
        "id": "4ggOK--1-8N1"
      },
      "source": [
        "df1=df.merge(gend,on='gender').drop('n',axis=1)"
      ],
      "execution_count": 21,
      "outputs": []
    },
    {
      "cell_type": "markdown",
      "metadata": {
        "id": "etpfgyYe_drP"
      },
      "source": [
        "### Determining Weight For Business Unit"
      ]
    },
    {
      "cell_type": "markdown",
      "metadata": {
        "id": "r9urRnHO_yeu"
      },
      "source": [
        "In this section all the business unit weights are calculated by their weight on all the orders."
      ]
    },
    {
      "cell_type": "code",
      "metadata": {
        "id": "LIhZivpnWnNv"
      },
      "source": [
        "scenario1=df.drop(['partition_date','orderparentid','user_id','color_id', 'gender','price'],axis=1)\n"
      ],
      "execution_count": 22,
      "outputs": []
    },
    {
      "cell_type": "code",
      "metadata": {
        "id": "7Ggr0QGJZZ3x"
      },
      "source": [
        "import sqlite3\n",
        "conn=sqlite3.connect(\":memory:\")"
      ],
      "execution_count": 23,
      "outputs": []
    },
    {
      "cell_type": "code",
      "metadata": {
        "id": "JvX7iafvZe_B"
      },
      "source": [
        "scenario1.to_sql(\"scenario1\",conn,if_exists='replace')"
      ],
      "execution_count": 24,
      "outputs": []
    },
    {
      "cell_type": "code",
      "metadata": {
        "id": "BxhqrLTxZnXf"
      },
      "source": [
        "bu_unit= pd.read_sql(\n",
        "    \"\"\"\n",
        "    select business_unit, count(1) n\n",
        "    from scenario1\n",
        "    group by business_unit\n",
        "    order by n desc\n",
        "    \"\"\",conn\n",
        ")"
      ],
      "execution_count": 25,
      "outputs": []
    },
    {
      "cell_type": "code",
      "metadata": {
        "id": "uPmAVEwYZ5SS"
      },
      "source": [
        "bu_unit['b_weight']= bu_unit[['n']].transform(lambda x: x/x.sum())\n",
        "bu_unit=bu_unit.drop('n',axis=1)\n",
        "df1=df1.merge(bu_unit,on=['business_unit'])"
      ],
      "execution_count": 26,
      "outputs": []
    },
    {
      "cell_type": "markdown",
      "metadata": {
        "id": "pTF_9lRLBbj0"
      },
      "source": [
        "All the weights that corresponds the business units are merged to main data frame."
      ]
    },
    {
      "cell_type": "markdown",
      "metadata": {
        "id": "CXsOb-EtA9tj"
      },
      "source": [
        "### Determining Weight For Category "
      ]
    },
    {
      "cell_type": "markdown",
      "metadata": {
        "id": "H06xP5uSBmQB"
      },
      "source": [
        "In this section all the category weights are calculated by their weight on all the orders."
      ]
    },
    {
      "cell_type": "code",
      "metadata": {
        "id": "2-A66OTeayQJ"
      },
      "source": [
        "category=pd.read_sql(\n",
        "    \"\"\"\n",
        "    select business_unit,category_name, count(1) n\n",
        "    from scenario1\n",
        "    group by  category_name ,business_unit\n",
        "    order by n desc\n",
        "    \"\"\"\n",
        "    ,conn)"
      ],
      "execution_count": 27,
      "outputs": []
    },
    {
      "cell_type": "code",
      "metadata": {
        "id": "6_UISlPsekE8"
      },
      "source": [
        "category['c_weight']=category[['n']].transform(lambda x: x/x.sum())\n",
        "category=category.drop('n',axis=1)\n",
        "df1=df1.merge(category,on=['category_name','business_unit'])"
      ],
      "execution_count": 28,
      "outputs": []
    },
    {
      "cell_type": "markdown",
      "metadata": {
        "id": "f3bX2-7061pB"
      },
      "source": [
        "## Construct Main Weight For Products"
      ]
    },
    {
      "cell_type": "markdown",
      "metadata": {
        "id": "zgNEvCeHLCOW"
      },
      "source": [
        "The weights are manipulated by the importance of weight as to reach desired recommendation engine."
      ]
    },
    {
      "cell_type": "code",
      "metadata": {
        "id": "7Hy3Hj7CrPS3"
      },
      "source": [
        "df1['weight'] = df1.c_weight * 0.5 + df1.g_weight * 0.2 + df1.b_weight * 0.3\n",
        "df1=df1.drop(['c_weight','g_weight','b_weight'],axis=1)"
      ],
      "execution_count": 29,
      "outputs": []
    },
    {
      "cell_type": "markdown",
      "metadata": {
        "id": "8EGXuXhXM4X-"
      },
      "source": [
        "Due to make variety in the range of all the parts that we worked on data grouped by within a strategy. The main purpose is to show a user whom has no behavioural data in the database, to show variety of products but in the range of popular items. "
      ]
    },
    {
      "cell_type": "code",
      "metadata": {
        "id": "mJMjelSdMl-r"
      },
      "source": [
        "recommendation=df1.sort_values('weight',ascending=False).drop_duplicates(subset=['business_unit','gender'], keep=\"first\").drop_duplicates(subset=['category_name','gender'],keep='first')"
      ],
      "execution_count": 30,
      "outputs": []
    },
    {
      "cell_type": "code",
      "metadata": {
        "id": "GyVSAL4OOM5p",
        "outputId": "3c1cf168-881b-47bd-e197-6b4f1aa206a2",
        "colab": {
          "base_uri": "https://localhost:8080/",
          "height": 520
        }
      },
      "source": [
        "recommendation"
      ],
      "execution_count": 31,
      "outputs": [
        {
          "output_type": "execute_result",
          "data": {
            "text/html": [
              "<div>\n",
              "<style scoped>\n",
              "    .dataframe tbody tr th:only-of-type {\n",
              "        vertical-align: middle;\n",
              "    }\n",
              "\n",
              "    .dataframe tbody tr th {\n",
              "        vertical-align: top;\n",
              "    }\n",
              "\n",
              "    .dataframe thead th {\n",
              "        text-align: right;\n",
              "    }\n",
              "</style>\n",
              "<table border=\"1\" class=\"dataframe\">\n",
              "  <thead>\n",
              "    <tr style=\"text-align: right;\">\n",
              "      <th></th>\n",
              "      <th>partition_date</th>\n",
              "      <th>orderparentid</th>\n",
              "      <th>user_id</th>\n",
              "      <th>productcontentid</th>\n",
              "      <th>brand_id</th>\n",
              "      <th>category_id</th>\n",
              "      <th>category_name</th>\n",
              "      <th>gender</th>\n",
              "      <th>price</th>\n",
              "      <th>color_id</th>\n",
              "      <th>business_unit</th>\n",
              "      <th>ImageLink</th>\n",
              "      <th>weight</th>\n",
              "    </tr>\n",
              "  </thead>\n",
              "  <tbody>\n",
              "    <tr>\n",
              "      <th>24038</th>\n",
              "      <td>18.08.2020 08:00</td>\n",
              "      <td>333288981</td>\n",
              "      <td>51951</td>\n",
              "      <td>38921712</td>\n",
              "      <td>40</td>\n",
              "      <td>604</td>\n",
              "      <td>T-Shirt</td>\n",
              "      <td>Kadın</td>\n",
              "      <td>44.99</td>\n",
              "      <td>16.0</td>\n",
              "      <td>PL Woman</td>\n",
              "      <td>https://cdn.dsmcdn.com//ty1/product/media/images/20200428/14/343677/68856802/2/2_org_zoom.jpg</td>\n",
              "      <td>0.123336</td>\n",
              "    </tr>\n",
              "    <tr>\n",
              "      <th>63271</th>\n",
              "      <td>4.08.2020 09:00</td>\n",
              "      <td>326737203</td>\n",
              "      <td>56273</td>\n",
              "      <td>44166180</td>\n",
              "      <td>13904</td>\n",
              "      <td>604</td>\n",
              "      <td>T-Shirt</td>\n",
              "      <td>Unisex</td>\n",
              "      <td>59.99</td>\n",
              "      <td>3.0</td>\n",
              "      <td>Kadın A</td>\n",
              "      <td>https://cdn.dsmcdn.com//ty7/product/media/images/20200724/14/5858707/78210459/2/2_org_zoom.jpg</td>\n",
              "      <td>0.119430</td>\n",
              "    </tr>\n",
              "    <tr>\n",
              "      <th>128021</th>\n",
              "      <td>27.08.2020 08:00</td>\n",
              "      <td>338604754</td>\n",
              "      <td>100894</td>\n",
              "      <td>42486581</td>\n",
              "      <td>33263</td>\n",
              "      <td>1182</td>\n",
              "      <td>Elbise</td>\n",
              "      <td>Unisex</td>\n",
              "      <td>51.99</td>\n",
              "      <td>14.0</td>\n",
              "      <td>Kadın B</td>\n",
              "      <td>https://cdn.dsmcdn.com//ty5/product/media/images/20200627/14/3578105/75450374/1/1_org_zoom.jpg</td>\n",
              "      <td>0.116930</td>\n",
              "    </tr>\n",
              "    <tr>\n",
              "      <th>337669</th>\n",
              "      <td>6.08.2020 10:00</td>\n",
              "      <td>327838477</td>\n",
              "      <td>86133</td>\n",
              "      <td>39832331</td>\n",
              "      <td>972528</td>\n",
              "      <td>4025</td>\n",
              "      <td>Medikal Maske</td>\n",
              "      <td>Unisex</td>\n",
              "      <td>19.40</td>\n",
              "      <td>NaN</td>\n",
              "      <td>Sağlık</td>\n",
              "      <td>https://cdn.dsmcdn.com//ty4/product/media/images/20200609/8/2439990/70567614/1/1_org_zoom.jpg</td>\n",
              "      <td>0.111862</td>\n",
              "    </tr>\n",
              "    <tr>\n",
              "      <th>310184</th>\n",
              "      <td>20.08.2020 20:00</td>\n",
              "      <td>335881096</td>\n",
              "      <td>38634</td>\n",
              "      <td>29126659</td>\n",
              "      <td>943608</td>\n",
              "      <td>2267</td>\n",
              "      <td>Pratik Mutfak Gereçleri</td>\n",
              "      <td>Unisex</td>\n",
              "      <td>13.40</td>\n",
              "      <td>5.0</td>\n",
              "      <td>Sofra &amp; Mutfak</td>\n",
              "      <td>https://cdn.dsmcdn.com//ty2/product/media/images/20200401/8/831141/52957596/1/1_org_zoom.jpg</td>\n",
              "      <td>0.109400</td>\n",
              "    </tr>\n",
              "    <tr>\n",
              "      <th>...</th>\n",
              "      <td>...</td>\n",
              "      <td>...</td>\n",
              "      <td>...</td>\n",
              "      <td>...</td>\n",
              "      <td>...</td>\n",
              "      <td>...</td>\n",
              "      <td>...</td>\n",
              "      <td>...</td>\n",
              "      <td>...</td>\n",
              "      <td>...</td>\n",
              "      <td>...</td>\n",
              "      <td>...</td>\n",
              "      <td>...</td>\n",
              "    </tr>\n",
              "    <tr>\n",
              "      <th>397963</th>\n",
              "      <td>15.08.2020 18:00</td>\n",
              "      <td>331639341</td>\n",
              "      <td>87462</td>\n",
              "      <td>35878048</td>\n",
              "      <td>10737</td>\n",
              "      <td>3214</td>\n",
              "      <td>Spor T-Shirt</td>\n",
              "      <td>Erkek</td>\n",
              "      <td>71.99</td>\n",
              "      <td>16.0</td>\n",
              "      <td>Outdoor</td>\n",
              "      <td>https://cdn.dsmcdn.com//assets/product/media/images/20200225/11/3490951/64100511/1/1_org_zoom.jpg</td>\n",
              "      <td>0.026320</td>\n",
              "    </tr>\n",
              "    <tr>\n",
              "      <th>364802</th>\n",
              "      <td>2.08.2020 20:00</td>\n",
              "      <td>326235762</td>\n",
              "      <td>54127</td>\n",
              "      <td>7089851</td>\n",
              "      <td>13024</td>\n",
              "      <td>380</td>\n",
              "      <td>Kemer</td>\n",
              "      <td>Erkek</td>\n",
              "      <td>26.95</td>\n",
              "      <td>14.0</td>\n",
              "      <td>Designer</td>\n",
              "      <td>https://cdn.dsmcdn.com//assets/product/images/184/22236695/1/1_org_zoom.jpg</td>\n",
              "      <td>0.026106</td>\n",
              "    </tr>\n",
              "    <tr>\n",
              "      <th>300792</th>\n",
              "      <td>2.08.2020 13:00</td>\n",
              "      <td>326105858</td>\n",
              "      <td>104032</td>\n",
              "      <td>35242399</td>\n",
              "      <td>896505</td>\n",
              "      <td>1262</td>\n",
              "      <td>Alyans</td>\n",
              "      <td>Erkek</td>\n",
              "      <td>85.00</td>\n",
              "      <td>3.0</td>\n",
              "      <td>Mücevher</td>\n",
              "      <td>https://cdn.dsmcdn.com//ty10/product/media/images/20200814/12/8049430/63946525/1/1_org_zoom.jpg</td>\n",
              "      <td>0.026015</td>\n",
              "    </tr>\n",
              "    <tr>\n",
              "      <th>477645</th>\n",
              "      <td>26.08.2020 19:00</td>\n",
              "      <td>338471758</td>\n",
              "      <td>48350</td>\n",
              "      <td>39927600</td>\n",
              "      <td>8392</td>\n",
              "      <td>1806</td>\n",
              "      <td>Cüzdan</td>\n",
              "      <td>Erkek</td>\n",
              "      <td>33.47</td>\n",
              "      <td>12.0</td>\n",
              "      <td>Aksesuar</td>\n",
              "      <td>https://cdn.dsmcdn.com//ty3/product/media/images/20200511/18/992719/70739882/1/1_org_zoom.jpg</td>\n",
              "      <td>0.025889</td>\n",
              "    </tr>\n",
              "    <tr>\n",
              "      <th>477639</th>\n",
              "      <td>17.08.2020 23:00</td>\n",
              "      <td>333144348</td>\n",
              "      <td>2949</td>\n",
              "      <td>40326208</td>\n",
              "      <td>13574</td>\n",
              "      <td>525</td>\n",
              "      <td>Eşofman Altı</td>\n",
              "      <td>Erkek</td>\n",
              "      <td>79.50</td>\n",
              "      <td>17.0</td>\n",
              "      <td>GAS</td>\n",
              "      <td>https://cdn.dsmcdn.com//ty12/product/media/images/20200914/19/10652312/86477790/1/1_org_zoom.jpg</td>\n",
              "      <td>0.025887</td>\n",
              "    </tr>\n",
              "  </tbody>\n",
              "</table>\n",
              "<p>181 rows × 13 columns</p>\n",
              "</div>"
            ],
            "text/plain": [
              "          partition_date  ...    weight\n",
              "24038   18.08.2020 08:00  ...  0.123336\n",
              "63271   4.08.2020 09:00   ...  0.119430\n",
              "128021  27.08.2020 08:00  ...  0.116930\n",
              "337669  6.08.2020 10:00   ...  0.111862\n",
              "310184  20.08.2020 20:00  ...  0.109400\n",
              "...                  ...  ...       ...\n",
              "397963  15.08.2020 18:00  ...  0.026320\n",
              "364802  2.08.2020 20:00   ...  0.026106\n",
              "300792  2.08.2020 13:00   ...  0.026015\n",
              "477645  26.08.2020 19:00  ...  0.025889\n",
              "477639  17.08.2020 23:00  ...  0.025887\n",
              "\n",
              "[181 rows x 13 columns]"
            ]
          },
          "metadata": {
            "tags": []
          },
          "execution_count": 31
        }
      ]
    },
    {
      "cell_type": "markdown",
      "metadata": {
        "id": "2wjzD5wDFrWU"
      },
      "source": [
        "All the weights are explicitly gained from users not in the sense of user ranking,but in the sense of popularity ranking."
      ]
    },
    {
      "cell_type": "markdown",
      "metadata": {
        "id": "3AS-HPb4PbxQ"
      },
      "source": [
        "## Convert Textual Data Into a Vector Matrix Product "
      ]
    },
    {
      "cell_type": "markdown",
      "metadata": {
        "id": "PLNXi4Pr3OKM"
      },
      "source": [
        "tf-idf weight which signifies the importance of term in a document. It is a statistical measure of importance of word in a document. This weight is related to number of times word appear in a corpus but is offseted by frequency of words in corpus."
      ]
    },
    {
      "cell_type": "markdown",
      "metadata": {
        "id": "YtJ_YeC33aHA"
      },
      "source": [
        "Tf in tf-idf weight measures frequency of terms in a document. And idf measure importance of that given term in given corpus."
      ]
    },
    {
      "cell_type": "markdown",
      "metadata": {
        "id": "uZxBT9rN3dCd"
      },
      "source": [
        "**TF(t)** = (Number of times term 't' appears in a document) / (Total number of terms in the document)\n",
        "\n",
        "**IDF(t)** = log_e(Total number of documents / Number of documents with term 't' in it)"
      ]
    },
    {
      "cell_type": "markdown",
      "metadata": {
        "id": "vkYfAG3by4VG"
      },
      "source": [
        "Import required libraries."
      ]
    },
    {
      "cell_type": "code",
      "metadata": {
        "id": "b6hT22T-1pMD",
        "outputId": "3bc4baf2-28f3-4fa5-a90e-2d7ee6f800f5",
        "colab": {
          "base_uri": "https://localhost:8080/",
          "height": 70
        }
      },
      "source": [
        "from sklearn.cluster import KMeans\n",
        "from sklearn import metrics\n",
        "from sklearn.feature_extraction.text import TfidfVectorizer\n",
        "from sklearn.metrics.pairwise import linear_kernel,cosine_similarity\n",
        "from nltk.corpus import stopwords \n",
        "import nltk\n",
        "nltk.download('stopwords')\n"
      ],
      "execution_count": 32,
      "outputs": [
        {
          "output_type": "stream",
          "text": [
            "[nltk_data] Downloading package stopwords to /root/nltk_data...\n",
            "[nltk_data]   Unzipping corpora/stopwords.zip.\n"
          ],
          "name": "stdout"
        },
        {
          "output_type": "execute_result",
          "data": {
            "text/plain": [
              "True"
            ]
          },
          "metadata": {
            "tags": []
          },
          "execution_count": 32
        }
      ]
    },
    {
      "cell_type": "code",
      "metadata": {
        "id": "z1eQlE4AzWHW"
      },
      "source": [
        "df2=df1.copy()\n",
        "df2=df2.sample(1000)"
      ],
      "execution_count": 42,
      "outputs": []
    },
    {
      "cell_type": "markdown",
      "metadata": {
        "id": "M3DMyqxkydHz"
      },
      "source": [
        "At first description column has been constructed for united the textual data from main database."
      ]
    },
    {
      "cell_type": "code",
      "metadata": {
        "id": "Xx4YVizu12wn"
      },
      "source": [
        "df2['description']=df2.business_unit.str.cat(\" \"+df2.category_name.str.cat(\" \"+df2.gender))"
      ],
      "execution_count": 43,
      "outputs": []
    },
    {
      "cell_type": "code",
      "metadata": {
        "id": "a0Jzt3FOZzyQ"
      },
      "source": [
        "df2=df2[['productcontentid','description']]"
      ],
      "execution_count": 44,
      "outputs": []
    },
    {
      "cell_type": "markdown",
      "metadata": {
        "id": "THZSlASI2qHx"
      },
      "source": [
        "Stop words has been used for ignoring the widely used words such as the or a. Because of the data has Turkish words, Turkish words are included to stop words."
      ]
    },
    {
      "cell_type": "code",
      "metadata": {
        "id": "ZlgXyxGK2gxq"
      },
      "source": [
        "stopw_turkish = stopwords.words('english') + stopwords.words('turkish')"
      ],
      "execution_count": 45,
      "outputs": []
    },
    {
      "cell_type": "markdown",
      "metadata": {
        "id": "m0ncBsHw_SIc"
      },
      "source": [
        "tfidf_matrix constructed by fit_transform method."
      ]
    },
    {
      "cell_type": "code",
      "metadata": {
        "id": "ZxfRAGgH4cHv"
      },
      "source": [
        "tf = TfidfVectorizer(analyzer='word',stop_words='english')\n",
        "tfidf_matrix=tf.fit_transform(df2.description)"
      ],
      "execution_count": 46,
      "outputs": []
    },
    {
      "cell_type": "markdown",
      "metadata": {
        "id": "Zibk4xgl5d2N"
      },
      "source": [
        "Then we compute similarity between all products using SciKit Learn's linear_kernel "
      ]
    },
    {
      "cell_type": "markdown",
      "metadata": {
        "id": "RYjP6fRKQJmg"
      },
      "source": [
        "Note that the tf-idf functionality in sklearn.feature_extraction.text can produce normalized vectors, in which case **cosine_similarity is equivalent to linear_kernel**"
      ]
    },
    {
      "cell_type": "code",
      "metadata": {
        "id": "CUaC0HHKOEvj"
      },
      "source": [
        "cosine_similarities=linear_kernel(tfidf_matrix, tfidf_matrix)\n"
      ],
      "execution_count": 50,
      "outputs": []
    },
    {
      "cell_type": "code",
      "metadata": {
        "id": "mb5AowWGJN8v"
      },
      "source": [
        "df2=df2.reset_index().drop('index',axis=1)"
      ],
      "execution_count": 57,
      "outputs": []
    },
    {
      "cell_type": "markdown",
      "metadata": {
        "id": "LnC6Qd-If9nT"
      },
      "source": [
        "## Prediction"
      ]
    },
    {
      "cell_type": "code",
      "metadata": {
        "id": "lS6IpaktZlxD"
      },
      "source": [
        "results= {}"
      ],
      "execution_count": 51,
      "outputs": []
    },
    {
      "cell_type": "markdown",
      "metadata": {
        "id": "in0TRemliZMk"
      },
      "source": [
        "First item is the item itself, so remove it."
      ]
    },
    {
      "cell_type": "markdown",
      "metadata": {
        "id": "6AJ4MbQygSF6"
      },
      "source": [
        "To find the most related documents, we can use cosine_similarites.argsort() to get the most related document similarities values."
      ]
    },
    {
      "cell_type": "code",
      "metadata": {
        "id": "06EXASK7gRpr"
      },
      "source": [
        "for idx, row in df2.iterrows():\n",
        "    similar_indices = cosine_similarities[idx].argsort()[:-100:-1]\n",
        "    similar_items = [(cosine_similarities[idx][i], df2['productcontentid'][i]) for i in similar_indices]\n",
        "    results[row['productcontentid']] = similar_items[1:]"
      ],
      "execution_count": 58,
      "outputs": []
    },
    {
      "cell_type": "markdown",
      "metadata": {
        "id": "6Wry9atehxjY"
      },
      "source": [
        "Iterate through each item's similar items and store the 100 most-similar."
      ]
    },
    {
      "cell_type": "markdown",
      "metadata": {
        "id": "rsB7aDhdiq4i"
      },
      "source": [
        "Function to get a similar item product id from the description field, given an product id."
      ]
    },
    {
      "cell_type": "code",
      "metadata": {
        "id": "uN65-3qmhAOw"
      },
      "source": [
        "def item(id):\n",
        "    return df2.loc[df2['productcontentid'] == id]['description'].tolist()[0]"
      ],
      "execution_count": 59,
      "outputs": []
    },
    {
      "cell_type": "markdown",
      "metadata": {
        "id": "Isd_Z8fdE3OG"
      },
      "source": [
        "Funtion to listing the products with the higher similarity with URL given in the ImageLink column."
      ]
    },
    {
      "cell_type": "code",
      "metadata": {
        "id": "EvHFwAOAhEcp"
      },
      "source": [
        "list1=[]\n",
        "list2=[]\n",
        "def recommend(item_id, num):\n",
        "    recs = results[item_id][:num]\n",
        "\n",
        "    for rec in recs:\n",
        "        list1.append(rec[1])\n",
        "    for i in list1:\n",
        "        list2.append(pr[pr['productcontentid']==i].iat[0,1])\n",
        "    return list2"
      ],
      "execution_count": 60,
      "outputs": []
    },
    {
      "cell_type": "markdown",
      "metadata": {
        "id": "hMiPDeDdK0Xc"
      },
      "source": [
        "Recommendation for product content id ( item id ) 35608512."
      ]
    },
    {
      "cell_type": "code",
      "metadata": {
        "id": "OB2384-EKnLA",
        "outputId": "46a9d517-9c89-43b5-d01e-8bf28309a63b",
        "colab": {
          "base_uri": "https://localhost:8080/",
          "height": 126
        }
      },
      "source": [
        "recommend(35608512,5)"
      ],
      "execution_count": 61,
      "outputs": [
        {
          "output_type": "execute_result",
          "data": {
            "text/plain": [
              "['https://cdn.dsmcdn.com//ty1/product/media/images/20200422/10/97787/67977431/2/2_org_zoom.jpg',\n",
              " 'https://cdn.dsmcdn.com//ty8/product/media/images/20200722/10/5473277/76596904/1/1_org_zoom.jpg',\n",
              " 'https://cdn.dsmcdn.com//assets/product/media/images/20200319/11/4541828/63193683/1/1_org_zoom.jpg',\n",
              " 'https://cdn.dsmcdn.com//assets/product/media/images/20200306/10/4079595/63869478/1/1_org_zoom.jpg',\n",
              " 'https://cdn.dsmcdn.com//assets/product/media/images/20200313/15/4409113/64968973/1/1_org_zoom.jpg']"
            ]
          },
          "metadata": {
            "tags": []
          },
          "execution_count": 61
        }
      ]
    },
    {
      "cell_type": "markdown",
      "metadata": {
        "id": "Y2-XSgGJnvcA"
      },
      "source": [
        "# Collaborative Recommendation Engine"
      ]
    },
    {
      "cell_type": "markdown",
      "metadata": {
        "id": "Ld6WUDskoVWN"
      },
      "source": [
        "This module shows how to retrieve the top-10 items with highest rating\n",
        "prediction. Firstly train an SVD algorithm on the dataset, and then\n",
        "predict all the weight for the pairs (user, item) that are not in the training\n",
        "set. We then retrieve the top-10 prediction for each user."
      ]
    },
    {
      "cell_type": "markdown",
      "metadata": {
        "id": "IFhNhjPCo1qZ"
      },
      "source": [
        "Firstly import all the necessary libraries."
      ]
    },
    {
      "cell_type": "code",
      "metadata": {
        "id": "bw5urYtcpFsK",
        "outputId": "dd2117b0-7817-47bc-ae40-2e9f10be30a4",
        "colab": {
          "base_uri": "https://localhost:8080/",
          "height": 144
        }
      },
      "source": [
        "!pip install surprise"
      ],
      "execution_count": null,
      "outputs": [
        {
          "output_type": "stream",
          "text": [
            "Requirement already satisfied: surprise in /usr/local/lib/python3.6/dist-packages (0.1)\n",
            "Requirement already satisfied: scikit-surprise in /usr/local/lib/python3.6/dist-packages (from surprise) (1.1.1)\n",
            "Requirement already satisfied: six>=1.10.0 in /usr/local/lib/python3.6/dist-packages (from scikit-surprise->surprise) (1.15.0)\n",
            "Requirement already satisfied: numpy>=1.11.2 in /usr/local/lib/python3.6/dist-packages (from scikit-surprise->surprise) (1.18.5)\n",
            "Requirement already satisfied: scipy>=1.0.0 in /usr/local/lib/python3.6/dist-packages (from scikit-surprise->surprise) (1.4.1)\n",
            "Requirement already satisfied: joblib>=0.11 in /usr/local/lib/python3.6/dist-packages (from scikit-surprise->surprise) (0.16.0)\n"
          ],
          "name": "stdout"
        }
      ]
    },
    {
      "cell_type": "code",
      "metadata": {
        "id": "KqZySSGGozkj"
      },
      "source": [
        "from surprise import Reader, Dataset, SVD\n",
        "from surprise import accuracy\n",
        "from surprise.model_selection import train_test_split\n",
        "from collections import defaultdict"
      ],
      "execution_count": null,
      "outputs": []
    },
    {
      "cell_type": "code",
      "metadata": {
        "id": "MLOZAttipWRa"
      },
      "source": [
        "df=df1.sample(5000)"
      ],
      "execution_count": null,
      "outputs": []
    },
    {
      "cell_type": "markdown",
      "metadata": {
        "id": "la4RU7xbqKOW"
      },
      "source": [
        "Rating scale ii set to range 0 to 1 due to weights are given in the same range. "
      ]
    },
    {
      "cell_type": "markdown",
      "metadata": {
        "id": "7P506B-3sYoC"
      },
      "source": [
        "First train an SVD algorithm on the dataset."
      ]
    },
    {
      "cell_type": "code",
      "metadata": {
        "id": "i01KOHaup6Rw"
      },
      "source": [
        "reader=Reader(rating_scale=(0,1))\n",
        "data=Dataset.load_from_df(df[['user_id','productcontentid','weight']],reader)\n",
        "algo = SVD()\n",
        "trainset = data.build_full_trainset()\n",
        "algo.fit(trainset)\n"
      ],
      "execution_count": null,
      "outputs": []
    },
    {
      "cell_type": "markdown",
      "metadata": {
        "id": "Wt5QvDEHwRxY"
      },
      "source": [
        "## Prediction"
      ]
    },
    {
      "cell_type": "markdown",
      "metadata": {
        "id": "kzoeBRdcsbWw"
      },
      "source": [
        "Than predict ratings for all pairs (u, i) that are NOT in the training set"
      ]
    },
    {
      "cell_type": "code",
      "metadata": {
        "id": "rm-YBgEdsjyy"
      },
      "source": [
        "testset = trainset.build_anti_testset()\n",
        "predictions = algo.test(testset)"
      ],
      "execution_count": null,
      "outputs": []
    },
    {
      "cell_type": "markdown",
      "metadata": {
        "id": "vYeg4GJjs4B6"
      },
      "source": [
        "Return the top-N recommendation for each user from a set of predictions.\n",
        "\n",
        "predictions: The list of predictions, as returned by the test method of an algorithm.\n",
        "\n",
        "n(int): The number of recommendation to output for each user. "
      ]
    },
    {
      "cell_type": "markdown",
      "metadata": {
        "id": "G5BLgFt8tmb9"
      },
      "source": [
        "Firstly, map the predictions to each user.\n",
        "\n",
        "Then sort the predictions for each user and retrieve the highest ones.\n",
        "\n"
      ]
    },
    {
      "cell_type": "code",
      "metadata": {
        "id": "6wVT5ImCs4rE"
      },
      "source": [
        "def get_top_n(predictions, n=10):\n",
        "\n",
        "    top_n = defaultdict(list)\n",
        "    for uid, iid, true_r, est, _ in predictions:\n",
        "        top_n[uid].append((iid, est))\n",
        "        \n",
        "    for uid, user_ratings in top_n.items():\n",
        "        user_ratings.sort(key=lambda x: x[1], reverse=True)\n",
        "        top_n[uid] = user_ratings[:n]\n",
        "\n",
        "    return top_n"
      ],
      "execution_count": null,
      "outputs": []
    },
    {
      "cell_type": "markdown",
      "metadata": {
        "id": "juBl4GX6ugln"
      },
      "source": [
        "Accuracy is calculated by RMSE metric."
      ]
    },
    {
      "cell_type": "code",
      "metadata": {
        "id": "rV33tSDuuaEV",
        "outputId": "699fabe9-8135-47fe-89e5-4fd14b3601b3",
        "colab": {
          "base_uri": "https://localhost:8080/",
          "height": 52
        }
      },
      "source": [
        "accuracy.rmse(predictions,verbose=True)"
      ],
      "execution_count": null,
      "outputs": [
        {
          "output_type": "stream",
          "text": [
            "RMSE: 0.0833\n"
          ],
          "name": "stdout"
        },
        {
          "output_type": "execute_result",
          "data": {
            "text/plain": [
              "0.08334527017878225"
            ]
          },
          "metadata": {
            "tags": []
          },
          "execution_count": 58
        }
      ]
    },
    {
      "cell_type": "code",
      "metadata": {
        "id": "rnvA3Ktvufr6"
      },
      "source": [
        "top_n = get_top_n(predictions, n=10)"
      ],
      "execution_count": null,
      "outputs": []
    },
    {
      "cell_type": "markdown",
      "metadata": {
        "id": "cHwUiQnsvljs"
      },
      "source": [
        "Every user and the products that recommended is appended to dictionary dict1."
      ]
    },
    {
      "cell_type": "markdown",
      "metadata": {
        "id": "KBwVW1dF2sSH"
      },
      "source": [
        "Due to reach to the url of the images of the products dictionary keeps the users and all the product recommended specifically for the user. Data Frame 'pr' is a cataloge for the products and imagelinks. Through the users recommendation products id the imagelink is reachable. In this project all the recommended products are documented with streamlit through PyCharm and these files will be shared with this notebook."
      ]
    },
    {
      "cell_type": "markdown",
      "metadata": {
        "id": "0XjRcGv0whfo"
      },
      "source": [
        "# Conclusion"
      ]
    },
    {
      "cell_type": "markdown",
      "metadata": {
        "id": "a2tM1I-MwnGU"
      },
      "source": [
        "**Content Based Recommendation**\n",
        "\n",
        "**PRO**:  Because of the weights given based on the popularity of the product and the data only based on the orders tf-idf vectorizer and cosine similarities generated satisfying outcomes when it comes to the content based recommendation.\n",
        "\n",
        "**CON**: Due to the recommendation is not specific to the user the recommendation scope is larger than expected, that might mislead the marketing strategies."
      ]
    },
    {
      "cell_type": "markdown",
      "metadata": {
        "id": "xJhHqHLExUqw"
      },
      "source": [
        "**Collaborative Recomendation**\n",
        "\n",
        "**PRO**: This engine specified for user and covers the popularity of product but in this case ratings given based on behaviour of user. \n",
        "\n",
        "**CON**: Not having sufficient amount of data that covers that user behaviours mislead the recommendation.\n"
      ]
    }
  ]
}